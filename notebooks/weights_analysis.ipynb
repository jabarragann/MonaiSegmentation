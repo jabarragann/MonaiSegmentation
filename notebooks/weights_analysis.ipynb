{
 "cells": [
  {
   "cell_type": "code",
   "execution_count": 2,
   "metadata": {},
   "outputs": [],
   "source": [
    "from pathlib import Path\n",
    "import monai\n",
    "from monai.losses import DiceLoss\n",
    "from monai.networks.nets import FlexibleUNet\n",
    "\n",
    "\n",
    "monai.utils.set_determinism(seed=0)\n",
    "# monai.config.print_config()\n",
    "\n",
    "dst_dir = Path(\"/home/juan1995/research_juan/accelnet_grant/monai_tutorials\")\n",
    "dst_dir = dst_dir / \"data\"\n",
    "device = \"cuda\"\n",
    "\n",
    "\n",
    "model = FlexibleUNet(\n",
    "    in_channels=3,\n",
    "    out_channels=1,\n",
    "    backbone=\"efficientnet-b0\",\n",
    "    pretrained=True,\n",
    "    is_pad=False,\n",
    ").to(device)\n",
    "\n",
    "loss_function = DiceLoss(sigmoid=True)\n",
    "\n",
    "\n",
    "pretrained_weights = monai.bundle.load(\n",
    "    name=\"endoscopic_tool_segmentation\", bundle_dir=dst_dir, version=\"0.2.0\"\n",
    ")\n",
    "\n",
    "# model_weight = model.state_dict()\n",
    "# weights_no_head = {k: v for k, v in pretrained_weights.items() if not \"segmentation_head\" in k}\n",
    "# model_weight.update(weights_no_head)\n",
    "# model.load_state_dict(model_weight)\n",
    "\n",
    "# print(\"model loading successful\")\n"
   ]
  },
  {
   "cell_type": "code",
   "execution_count": null,
   "metadata": {},
   "outputs": [],
   "source": [
    "pretrained_weights.keys()"
   ]
  },
  {
   "cell_type": "code",
   "execution_count": 5,
   "metadata": {},
   "outputs": [
    {
     "data": {
      "text/plain": [
       "dict_keys(['segmentation_head.0.weight', 'segmentation_head.0.bias'])"
      ]
     },
     "execution_count": 5,
     "metadata": {},
     "output_type": "execute_result"
    }
   ],
   "source": [
    "\n",
    "weights_head = {k: v for k, v in pretrained_weights.items() if \"segmentation_head\" in k}\n",
    "\n",
    "weights_head.keys()"
   ]
  },
  {
   "cell_type": "code",
   "execution_count": 6,
   "metadata": {},
   "outputs": [
    {
     "name": "stdout",
     "output_type": "stream",
     "text": [
      "Key segmentation_head.0.weight\n",
      "torch.Size([2, 16, 3, 3])\n",
      "Key segmentation_head.0.bias\n",
      "torch.Size([2])\n"
     ]
    }
   ],
   "source": [
    "for k,v in weights_head.items():\n",
    "    print(f\"Key {k}\")\n",
    "    print(v.shape)"
   ]
  }
 ],
 "metadata": {
  "kernelspec": {
   "display_name": "torch_env",
   "language": "python",
   "name": "python3"
  },
  "language_info": {
   "codemirror_mode": {
    "name": "ipython",
    "version": 3
   },
   "file_extension": ".py",
   "mimetype": "text/x-python",
   "name": "python",
   "nbconvert_exporter": "python",
   "pygments_lexer": "ipython3",
   "version": "3.8.12"
  },
  "orig_nbformat": 4,
  "vscode": {
   "interpreter": {
    "hash": "d2f5aadf8616fef8483d1d8eaf10e2f3ddd8174aba0db51bea9088b5d3c50d3c"
   }
  }
 },
 "nbformat": 4,
 "nbformat_minor": 2
}
